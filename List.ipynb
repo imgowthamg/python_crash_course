{
 "cells": [
  {
   "cell_type": "markdown",
   "id": "39d8bb2c",
   "metadata": {},
   "source": [
    "# List"
   ]
  },
  {
   "cell_type": "code",
   "execution_count": 1,
   "id": "b0ecb353",
   "metadata": {},
   "outputs": [
    {
     "name": "stdout",
     "output_type": "stream",
     "text": [
      "Total charaters : 37 , Average length : 5.285714\n"
     ]
    }
   ],
   "source": [
    "animals=[\"lion\",\"tiger\",\"Deer\",\"chetta\",\"monkey\",\"Bull\",\"Elephant\"]\n",
    "char=0\n",
    "for animal in animals:\n",
    "    char+=len(animal)\n",
    "print(\"Total charaters : {} , Average length : {:3f}\".format(char,char/len(animals)))"
   ]
  },
  {
   "cell_type": "code",
   "execution_count": 2,
   "id": "e6132074",
   "metadata": {},
   "outputs": [
    {
     "data": {
      "text/plain": [
       "['lion', 'tiger', 'Deer', 'chetta', 'monkey', 'Bull', 'Elephant']"
      ]
     },
     "execution_count": 2,
     "metadata": {},
     "output_type": "execute_result"
    }
   ],
   "source": [
    "animals"
   ]
  },
  {
   "cell_type": "markdown",
   "id": "51fb15cb",
   "metadata": {},
   "source": [
    "## appent\n",
    "#### adding new element in the last place"
   ]
  },
  {
   "cell_type": "code",
   "execution_count": 3,
   "id": "d171adac",
   "metadata": {},
   "outputs": [
    {
     "data": {
      "text/plain": [
       "['lion', 'tiger', 'Deer', 'chetta', 'monkey', 'Bull', 'Elephant', 'rabbit']"
      ]
     },
     "execution_count": 3,
     "metadata": {},
     "output_type": "execute_result"
    }
   ],
   "source": [
    "animals.append(\"rabbit\")\n",
    "animals"
   ]
  },
  {
   "cell_type": "markdown",
   "id": "32143984",
   "metadata": {},
   "source": [
    "## insert \n",
    "#### it is to add element based on indexing "
   ]
  },
  {
   "cell_type": "code",
   "execution_count": 4,
   "id": "141d0c5b",
   "metadata": {},
   "outputs": [
    {
     "data": {
      "text/plain": [
       "['lion',\n",
       " 'dog',\n",
       " 'tiger',\n",
       " 'Deer',\n",
       " 'chetta',\n",
       " 'monkey',\n",
       " 'Bull',\n",
       " 'Elephant',\n",
       " 'rabbit']"
      ]
     },
     "execution_count": 4,
     "metadata": {},
     "output_type": "execute_result"
    }
   ],
   "source": [
    "animals.insert(1,\"dog\")\n",
    "animals"
   ]
  },
  {
   "cell_type": "markdown",
   "id": "e091e70a",
   "metadata": {},
   "source": [
    "## POP \n",
    "#### It is for remove the element based on the indexing  "
   ]
  },
  {
   "cell_type": "code",
   "execution_count": 5,
   "id": "2ea38af6",
   "metadata": {},
   "outputs": [
    {
     "data": {
      "text/plain": [
       "['dog', 'tiger', 'Deer', 'chetta', 'monkey', 'Bull', 'Elephant', 'rabbit']"
      ]
     },
     "execution_count": 5,
     "metadata": {},
     "output_type": "execute_result"
    }
   ],
   "source": [
    "animals.pop(0)\n",
    "animals"
   ]
  },
  {
   "cell_type": "markdown",
   "id": "e1143651",
   "metadata": {},
   "source": [
    "## Del\n",
    "#### it is also delete the element based on the the indexing"
   ]
  },
  {
   "cell_type": "code",
   "execution_count": 6,
   "id": "07f61774",
   "metadata": {},
   "outputs": [
    {
     "data": {
      "text/plain": [
       "['tiger', 'Deer', 'chetta', 'monkey', 'Bull', 'Elephant', 'rabbit']"
      ]
     },
     "execution_count": 6,
     "metadata": {},
     "output_type": "execute_result"
    }
   ],
   "source": [
    "del animals[0]\n",
    "animals"
   ]
  },
  {
   "cell_type": "markdown",
   "id": "c3a13a04",
   "metadata": {},
   "source": [
    "## Sorting and Reversing\n",
    "#### using sort() & reverse()"
   ]
  },
  {
   "cell_type": "code",
   "execution_count": 7,
   "id": "6c232651",
   "metadata": {},
   "outputs": [
    {
     "data": {
      "text/plain": [
       "['Bull', 'Deer', 'Elephant', 'chetta', 'monkey', 'rabbit', 'tiger']"
      ]
     },
     "execution_count": 7,
     "metadata": {},
     "output_type": "execute_result"
    }
   ],
   "source": [
    "# sort()\n",
    "animals.sort()\n",
    "animals"
   ]
  },
  {
   "cell_type": "code",
   "execution_count": 8,
   "id": "e5c8ef76",
   "metadata": {},
   "outputs": [
    {
     "data": {
      "text/plain": [
       "['tiger', 'rabbit', 'monkey', 'chetta', 'Elephant', 'Deer', 'Bull']"
      ]
     },
     "execution_count": 8,
     "metadata": {},
     "output_type": "execute_result"
    }
   ],
   "source": [
    "#reverse()\n",
    "animals.reverse()\n",
    "animals"
   ]
  },
  {
   "cell_type": "markdown",
   "id": "333890ab",
   "metadata": {},
   "source": [
    "## Slicing\n",
    "#### To divide the list "
   ]
  },
  {
   "cell_type": "code",
   "execution_count": 9,
   "id": "162d1383",
   "metadata": {},
   "outputs": [
    {
     "name": "stdout",
     "output_type": "stream",
     "text": [
      "['tiger', 'rabbit', 'monkey'] \t ['chetta', 'Elephant', 'Deer', 'Bull']\n"
     ]
    }
   ],
   "source": [
    "list1=animals[:3]\n",
    "list2=animals[3:]\n",
    "print(list1,end=\" \\t \")\n",
    "print(list2)"
   ]
  },
  {
   "cell_type": "markdown",
   "id": "0fa1c3e6",
   "metadata": {},
   "source": [
    "## Checking Membership"
   ]
  },
  {
   "cell_type": "markdown",
   "id": "87473892",
   "metadata": {},
   "source": [
    "### IN"
   ]
  },
  {
   "cell_type": "code",
   "execution_count": 10,
   "id": "83995fd8",
   "metadata": {},
   "outputs": [
    {
     "data": {
      "text/plain": [
       "False"
      ]
     },
     "execution_count": 10,
     "metadata": {},
     "output_type": "execute_result"
    }
   ],
   "source": [
    "\"dog\" in animals"
   ]
  },
  {
   "cell_type": "code",
   "execution_count": 11,
   "id": "1d3a77eb",
   "metadata": {},
   "outputs": [
    {
     "data": {
      "text/plain": [
       "True"
      ]
     },
     "execution_count": 11,
     "metadata": {},
     "output_type": "execute_result"
    }
   ],
   "source": [
    "\"Bull\" in animals"
   ]
  },
  {
   "cell_type": "markdown",
   "id": "507f9d9e",
   "metadata": {},
   "source": [
    "### NOT IN"
   ]
  },
  {
   "cell_type": "code",
   "execution_count": 12,
   "id": "7b8aeff7",
   "metadata": {},
   "outputs": [
    {
     "data": {
      "text/plain": [
       "True"
      ]
     },
     "execution_count": 12,
     "metadata": {},
     "output_type": "execute_result"
    }
   ],
   "source": [
    "\"dog\" not in animals"
   ]
  },
  {
   "cell_type": "code",
   "execution_count": 13,
   "id": "b9a27b13",
   "metadata": {},
   "outputs": [
    {
     "data": {
      "text/plain": [
       "False"
      ]
     },
     "execution_count": 13,
     "metadata": {},
     "output_type": "execute_result"
    }
   ],
   "source": [
    "\"Bull\" not in animals"
   ]
  },
  {
   "cell_type": "markdown",
   "id": "c38a1dd1",
   "metadata": {},
   "source": [
    "## List Concatenation"
   ]
  },
  {
   "cell_type": "code",
   "execution_count": 14,
   "id": "358222af",
   "metadata": {},
   "outputs": [
    {
     "name": "stdout",
     "output_type": "stream",
     "text": [
      "['tiger', 'rabbit', 'monkey', 'chetta', 'Elephant', 'Deer', 'Bull']\n"
     ]
    }
   ],
   "source": [
    "newl=list1+list2\n",
    "print(newl)"
   ]
  },
  {
   "cell_type": "code",
   "execution_count": 15,
   "id": "83f060d9",
   "metadata": {},
   "outputs": [
    {
     "data": {
      "text/plain": [
       "True"
      ]
     },
     "execution_count": 15,
     "metadata": {},
     "output_type": "execute_result"
    }
   ],
   "source": [
    "newl==animals"
   ]
  },
  {
   "cell_type": "markdown",
   "id": "58be83f7",
   "metadata": {},
   "source": [
    "## Clearing"
   ]
  },
  {
   "cell_type": "code",
   "execution_count": 16,
   "id": "bcce9d6c",
   "metadata": {},
   "outputs": [
    {
     "name": "stdout",
     "output_type": "stream",
     "text": [
      "[]\n"
     ]
    }
   ],
   "source": [
    "list1.clear()\n",
    "print(list1)"
   ]
  },
  {
   "cell_type": "markdown",
   "id": "191dc5c6",
   "metadata": {},
   "source": [
    "## copy the list"
   ]
  },
  {
   "cell_type": "code",
   "execution_count": 17,
   "id": "5d9f0d7b",
   "metadata": {},
   "outputs": [
    {
     "data": {
      "text/plain": [
       "['tiger', 'rabbit', 'monkey', 'chetta', 'Elephant', 'Deer', 'Bull']"
      ]
     },
     "execution_count": 17,
     "metadata": {},
     "output_type": "execute_result"
    }
   ],
   "source": [
    "Animals=animals.copy()\n",
    "Animals"
   ]
  },
  {
   "cell_type": "code",
   "execution_count": 18,
   "id": "78276879",
   "metadata": {},
   "outputs": [
    {
     "data": {
      "text/plain": [
       "['tiger',\n",
       " 'rabbit',\n",
       " 'monkey',\n",
       " 'chetta',\n",
       " 'Elephant',\n",
       " 'Deer',\n",
       " 'Bull',\n",
       " 'tiger',\n",
       " 'rabbit',\n",
       " 'monkey',\n",
       " 'chetta',\n",
       " 'Elephant',\n",
       " 'Deer',\n",
       " 'Bull',\n",
       " 'tiger',\n",
       " 'rabbit',\n",
       " 'monkey',\n",
       " 'chetta',\n",
       " 'Elephant',\n",
       " 'Deer',\n",
       " 'Bull']"
      ]
     },
     "execution_count": 18,
     "metadata": {},
     "output_type": "execute_result"
    }
   ],
   "source": [
    "Animals*3"
   ]
  },
  {
   "cell_type": "code",
   "execution_count": null,
   "id": "edc9f7d3",
   "metadata": {},
   "outputs": [],
   "source": []
  }
 ],
 "metadata": {
  "kernelspec": {
   "display_name": "Python 3 (ipykernel)",
   "language": "python",
   "name": "python3"
  },
  "language_info": {
   "codemirror_mode": {
    "name": "ipython",
    "version": 3
   },
   "file_extension": ".py",
   "mimetype": "text/x-python",
   "name": "python",
   "nbconvert_exporter": "python",
   "pygments_lexer": "ipython3",
   "version": "3.9.13"
  }
 },
 "nbformat": 4,
 "nbformat_minor": 5
}
